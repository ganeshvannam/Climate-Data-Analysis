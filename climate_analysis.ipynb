{
  "cells": [
    {
      "cell_type": "code",
      "execution_count": null,
      "metadata": {
        "id": "i7IZpH0fJ9Fk",
        "tags": []
      },
      "outputs": [],
      "source": [
        "# Imports\n",
        "import pandas as pd\n",
        "import numpy as np\n",
        "import matplotlib as mpl\n",
        "import matplotlib.pyplot as plt\n",
        "import seaborn as sns\n",
        "%matplotlib inline\n",
        "import os"
      ]
    },
    {
      "cell_type": "code",
      "execution_count": null,
      "metadata": {
        "colab": {
          "base_uri": "https://localhost:8080/",
          "height": 562
        },
        "id": "KXDkKNkxJtsa",
        "outputId": "4647b7b8-8910-4b8b-eae4-27646661992e"
      },
      "outputs": [
        {
          "output_type": "stream",
          "name": "stdout",
          "text": [
            "Number of Rows : 52077\n",
            "Number of Columns: 6\n",
            "Date_Number is of the data type:  float64\n",
            "Year is of the data type:  int64\n",
            "Month is of the data type:  int64\n",
            "Day is of the data type:  int64\n",
            "Day_of_Year is of the data type:  int64\n",
            "Anomaly is of the data type:  float64\n"
          ]
        },
        {
          "output_type": "execute_result",
          "data": {
            "text/plain": [
              "       Date_Number  Year  Month  Day  Day_of_Year  Anomaly\n",
              "0         1880.001  1880      1    1            1   -0.692\n",
              "1         1880.004  1880      1    2            2   -0.592\n",
              "2         1880.007  1880      1    3            3   -0.673\n",
              "3         1880.010  1880      1    4            4   -0.615\n",
              "4         1880.012  1880      1    5            5   -0.681\n",
              "...            ...   ...    ...  ...          ...      ...\n",
              "52072     2022.568  2022      7   27          208    1.639\n",
              "52073     2022.571  2022      7   28          209    1.631\n",
              "52074     2022.574  2022      7   29          210    1.574\n",
              "52075     2022.577  2022      7   30          211    1.577\n",
              "52076     2022.579  2022      7   31          212    1.629\n",
              "\n",
              "[52077 rows x 6 columns]"
            ],
            "text/html": [
              "\n",
              "  <div id=\"df-9d13e5c9-24c2-44a4-ae1b-63390c2c0292\" class=\"colab-df-container\">\n",
              "    <div>\n",
              "<style scoped>\n",
              "    .dataframe tbody tr th:only-of-type {\n",
              "        vertical-align: middle;\n",
              "    }\n",
              "\n",
              "    .dataframe tbody tr th {\n",
              "        vertical-align: top;\n",
              "    }\n",
              "\n",
              "    .dataframe thead th {\n",
              "        text-align: right;\n",
              "    }\n",
              "</style>\n",
              "<table border=\"1\" class=\"dataframe\">\n",
              "  <thead>\n",
              "    <tr style=\"text-align: right;\">\n",
              "      <th></th>\n",
              "      <th>Date_Number</th>\n",
              "      <th>Year</th>\n",
              "      <th>Month</th>\n",
              "      <th>Day</th>\n",
              "      <th>Day_of_Year</th>\n",
              "      <th>Anomaly</th>\n",
              "    </tr>\n",
              "  </thead>\n",
              "  <tbody>\n",
              "    <tr>\n",
              "      <th>0</th>\n",
              "      <td>1880.001</td>\n",
              "      <td>1880</td>\n",
              "      <td>1</td>\n",
              "      <td>1</td>\n",
              "      <td>1</td>\n",
              "      <td>-0.692</td>\n",
              "    </tr>\n",
              "    <tr>\n",
              "      <th>1</th>\n",
              "      <td>1880.004</td>\n",
              "      <td>1880</td>\n",
              "      <td>1</td>\n",
              "      <td>2</td>\n",
              "      <td>2</td>\n",
              "      <td>-0.592</td>\n",
              "    </tr>\n",
              "    <tr>\n",
              "      <th>2</th>\n",
              "      <td>1880.007</td>\n",
              "      <td>1880</td>\n",
              "      <td>1</td>\n",
              "      <td>3</td>\n",
              "      <td>3</td>\n",
              "      <td>-0.673</td>\n",
              "    </tr>\n",
              "    <tr>\n",
              "      <th>3</th>\n",
              "      <td>1880.010</td>\n",
              "      <td>1880</td>\n",
              "      <td>1</td>\n",
              "      <td>4</td>\n",
              "      <td>4</td>\n",
              "      <td>-0.615</td>\n",
              "    </tr>\n",
              "    <tr>\n",
              "      <th>4</th>\n",
              "      <td>1880.012</td>\n",
              "      <td>1880</td>\n",
              "      <td>1</td>\n",
              "      <td>5</td>\n",
              "      <td>5</td>\n",
              "      <td>-0.681</td>\n",
              "    </tr>\n",
              "    <tr>\n",
              "      <th>...</th>\n",
              "      <td>...</td>\n",
              "      <td>...</td>\n",
              "      <td>...</td>\n",
              "      <td>...</td>\n",
              "      <td>...</td>\n",
              "      <td>...</td>\n",
              "    </tr>\n",
              "    <tr>\n",
              "      <th>52072</th>\n",
              "      <td>2022.568</td>\n",
              "      <td>2022</td>\n",
              "      <td>7</td>\n",
              "      <td>27</td>\n",
              "      <td>208</td>\n",
              "      <td>1.639</td>\n",
              "    </tr>\n",
              "    <tr>\n",
              "      <th>52073</th>\n",
              "      <td>2022.571</td>\n",
              "      <td>2022</td>\n",
              "      <td>7</td>\n",
              "      <td>28</td>\n",
              "      <td>209</td>\n",
              "      <td>1.631</td>\n",
              "    </tr>\n",
              "    <tr>\n",
              "      <th>52074</th>\n",
              "      <td>2022.574</td>\n",
              "      <td>2022</td>\n",
              "      <td>7</td>\n",
              "      <td>29</td>\n",
              "      <td>210</td>\n",
              "      <td>1.574</td>\n",
              "    </tr>\n",
              "    <tr>\n",
              "      <th>52075</th>\n",
              "      <td>2022.577</td>\n",
              "      <td>2022</td>\n",
              "      <td>7</td>\n",
              "      <td>30</td>\n",
              "      <td>211</td>\n",
              "      <td>1.577</td>\n",
              "    </tr>\n",
              "    <tr>\n",
              "      <th>52076</th>\n",
              "      <td>2022.579</td>\n",
              "      <td>2022</td>\n",
              "      <td>7</td>\n",
              "      <td>31</td>\n",
              "      <td>212</td>\n",
              "      <td>1.629</td>\n",
              "    </tr>\n",
              "  </tbody>\n",
              "</table>\n",
              "<p>52077 rows × 6 columns</p>\n",
              "</div>\n",
              "    <div class=\"colab-df-buttons\">\n",
              "\n",
              "  <div class=\"colab-df-container\">\n",
              "    <button class=\"colab-df-convert\" onclick=\"convertToInteractive('df-9d13e5c9-24c2-44a4-ae1b-63390c2c0292')\"\n",
              "            title=\"Convert this dataframe to an interactive table.\"\n",
              "            style=\"display:none;\">\n",
              "\n",
              "  <svg xmlns=\"http://www.w3.org/2000/svg\" height=\"24px\" viewBox=\"0 -960 960 960\">\n",
              "    <path d=\"M120-120v-720h720v720H120Zm60-500h600v-160H180v160Zm220 220h160v-160H400v160Zm0 220h160v-160H400v160ZM180-400h160v-160H180v160Zm440 0h160v-160H620v160ZM180-180h160v-160H180v160Zm440 0h160v-160H620v160Z\"/>\n",
              "  </svg>\n",
              "    </button>\n",
              "\n",
              "  <style>\n",
              "    .colab-df-container {\n",
              "      display:flex;\n",
              "      gap: 12px;\n",
              "    }\n",
              "\n",
              "    .colab-df-convert {\n",
              "      background-color: #E8F0FE;\n",
              "      border: none;\n",
              "      border-radius: 50%;\n",
              "      cursor: pointer;\n",
              "      display: none;\n",
              "      fill: #1967D2;\n",
              "      height: 32px;\n",
              "      padding: 0 0 0 0;\n",
              "      width: 32px;\n",
              "    }\n",
              "\n",
              "    .colab-df-convert:hover {\n",
              "      background-color: #E2EBFA;\n",
              "      box-shadow: 0px 1px 2px rgba(60, 64, 67, 0.3), 0px 1px 3px 1px rgba(60, 64, 67, 0.15);\n",
              "      fill: #174EA6;\n",
              "    }\n",
              "\n",
              "    .colab-df-buttons div {\n",
              "      margin-bottom: 4px;\n",
              "    }\n",
              "\n",
              "    [theme=dark] .colab-df-convert {\n",
              "      background-color: #3B4455;\n",
              "      fill: #D2E3FC;\n",
              "    }\n",
              "\n",
              "    [theme=dark] .colab-df-convert:hover {\n",
              "      background-color: #434B5C;\n",
              "      box-shadow: 0px 1px 3px 1px rgba(0, 0, 0, 0.15);\n",
              "      filter: drop-shadow(0px 1px 2px rgba(0, 0, 0, 0.3));\n",
              "      fill: #FFFFFF;\n",
              "    }\n",
              "  </style>\n",
              "\n",
              "    <script>\n",
              "      const buttonEl =\n",
              "        document.querySelector('#df-9d13e5c9-24c2-44a4-ae1b-63390c2c0292 button.colab-df-convert');\n",
              "      buttonEl.style.display =\n",
              "        google.colab.kernel.accessAllowed ? 'block' : 'none';\n",
              "\n",
              "      async function convertToInteractive(key) {\n",
              "        const element = document.querySelector('#df-9d13e5c9-24c2-44a4-ae1b-63390c2c0292');\n",
              "        const dataTable =\n",
              "          await google.colab.kernel.invokeFunction('convertToInteractive',\n",
              "                                                    [key], {});\n",
              "        if (!dataTable) return;\n",
              "\n",
              "        const docLinkHtml = 'Like what you see? Visit the ' +\n",
              "          '<a target=\"_blank\" href=https://colab.research.google.com/notebooks/data_table.ipynb>data table notebook</a>'\n",
              "          + ' to learn more about interactive tables.';\n",
              "        element.innerHTML = '';\n",
              "        dataTable['output_type'] = 'display_data';\n",
              "        await google.colab.output.renderOutput(dataTable, element);\n",
              "        const docLink = document.createElement('div');\n",
              "        docLink.innerHTML = docLinkHtml;\n",
              "        element.appendChild(docLink);\n",
              "      }\n",
              "    </script>\n",
              "  </div>\n",
              "\n",
              "\n",
              "<div id=\"df-81edea95-9724-4721-b58e-2907a68695c3\">\n",
              "  <button class=\"colab-df-quickchart\" onclick=\"quickchart('df-81edea95-9724-4721-b58e-2907a68695c3')\"\n",
              "            title=\"Suggest charts\"\n",
              "            style=\"display:none;\">\n",
              "\n",
              "<svg xmlns=\"http://www.w3.org/2000/svg\" height=\"24px\"viewBox=\"0 0 24 24\"\n",
              "     width=\"24px\">\n",
              "    <g>\n",
              "        <path d=\"M19 3H5c-1.1 0-2 .9-2 2v14c0 1.1.9 2 2 2h14c1.1 0 2-.9 2-2V5c0-1.1-.9-2-2-2zM9 17H7v-7h2v7zm4 0h-2V7h2v10zm4 0h-2v-4h2v4z\"/>\n",
              "    </g>\n",
              "</svg>\n",
              "  </button>\n",
              "\n",
              "<style>\n",
              "  .colab-df-quickchart {\n",
              "      --bg-color: #E8F0FE;\n",
              "      --fill-color: #1967D2;\n",
              "      --hover-bg-color: #E2EBFA;\n",
              "      --hover-fill-color: #174EA6;\n",
              "      --disabled-fill-color: #AAA;\n",
              "      --disabled-bg-color: #DDD;\n",
              "  }\n",
              "\n",
              "  [theme=dark] .colab-df-quickchart {\n",
              "      --bg-color: #3B4455;\n",
              "      --fill-color: #D2E3FC;\n",
              "      --hover-bg-color: #434B5C;\n",
              "      --hover-fill-color: #FFFFFF;\n",
              "      --disabled-bg-color: #3B4455;\n",
              "      --disabled-fill-color: #666;\n",
              "  }\n",
              "\n",
              "  .colab-df-quickchart {\n",
              "    background-color: var(--bg-color);\n",
              "    border: none;\n",
              "    border-radius: 50%;\n",
              "    cursor: pointer;\n",
              "    display: none;\n",
              "    fill: var(--fill-color);\n",
              "    height: 32px;\n",
              "    padding: 0;\n",
              "    width: 32px;\n",
              "  }\n",
              "\n",
              "  .colab-df-quickchart:hover {\n",
              "    background-color: var(--hover-bg-color);\n",
              "    box-shadow: 0 1px 2px rgba(60, 64, 67, 0.3), 0 1px 3px 1px rgba(60, 64, 67, 0.15);\n",
              "    fill: var(--button-hover-fill-color);\n",
              "  }\n",
              "\n",
              "  .colab-df-quickchart-complete:disabled,\n",
              "  .colab-df-quickchart-complete:disabled:hover {\n",
              "    background-color: var(--disabled-bg-color);\n",
              "    fill: var(--disabled-fill-color);\n",
              "    box-shadow: none;\n",
              "  }\n",
              "\n",
              "  .colab-df-spinner {\n",
              "    border: 2px solid var(--fill-color);\n",
              "    border-color: transparent;\n",
              "    border-bottom-color: var(--fill-color);\n",
              "    animation:\n",
              "      spin 1s steps(1) infinite;\n",
              "  }\n",
              "\n",
              "  @keyframes spin {\n",
              "    0% {\n",
              "      border-color: transparent;\n",
              "      border-bottom-color: var(--fill-color);\n",
              "      border-left-color: var(--fill-color);\n",
              "    }\n",
              "    20% {\n",
              "      border-color: transparent;\n",
              "      border-left-color: var(--fill-color);\n",
              "      border-top-color: var(--fill-color);\n",
              "    }\n",
              "    30% {\n",
              "      border-color: transparent;\n",
              "      border-left-color: var(--fill-color);\n",
              "      border-top-color: var(--fill-color);\n",
              "      border-right-color: var(--fill-color);\n",
              "    }\n",
              "    40% {\n",
              "      border-color: transparent;\n",
              "      border-right-color: var(--fill-color);\n",
              "      border-top-color: var(--fill-color);\n",
              "    }\n",
              "    60% {\n",
              "      border-color: transparent;\n",
              "      border-right-color: var(--fill-color);\n",
              "    }\n",
              "    80% {\n",
              "      border-color: transparent;\n",
              "      border-right-color: var(--fill-color);\n",
              "      border-bottom-color: var(--fill-color);\n",
              "    }\n",
              "    90% {\n",
              "      border-color: transparent;\n",
              "      border-bottom-color: var(--fill-color);\n",
              "    }\n",
              "  }\n",
              "</style>\n",
              "\n",
              "  <script>\n",
              "    async function quickchart(key) {\n",
              "      const quickchartButtonEl =\n",
              "        document.querySelector('#' + key + ' button');\n",
              "      quickchartButtonEl.disabled = true;  // To prevent multiple clicks.\n",
              "      quickchartButtonEl.classList.add('colab-df-spinner');\n",
              "      try {\n",
              "        const charts = await google.colab.kernel.invokeFunction(\n",
              "            'suggestCharts', [key], {});\n",
              "      } catch (error) {\n",
              "        console.error('Error during call to suggestCharts:', error);\n",
              "      }\n",
              "      quickchartButtonEl.classList.remove('colab-df-spinner');\n",
              "      quickchartButtonEl.classList.add('colab-df-quickchart-complete');\n",
              "    }\n",
              "    (() => {\n",
              "      let quickchartButtonEl =\n",
              "        document.querySelector('#df-81edea95-9724-4721-b58e-2907a68695c3 button');\n",
              "      quickchartButtonEl.style.display =\n",
              "        google.colab.kernel.accessAllowed ? 'block' : 'none';\n",
              "    })();\n",
              "  </script>\n",
              "</div>\n",
              "\n",
              "  <div id=\"id_1e480298-d7da-4708-bf48-6b7f7f1a2c89\">\n",
              "    <style>\n",
              "      .colab-df-generate {\n",
              "        background-color: #E8F0FE;\n",
              "        border: none;\n",
              "        border-radius: 50%;\n",
              "        cursor: pointer;\n",
              "        display: none;\n",
              "        fill: #1967D2;\n",
              "        height: 32px;\n",
              "        padding: 0 0 0 0;\n",
              "        width: 32px;\n",
              "      }\n",
              "\n",
              "      .colab-df-generate:hover {\n",
              "        background-color: #E2EBFA;\n",
              "        box-shadow: 0px 1px 2px rgba(60, 64, 67, 0.3), 0px 1px 3px 1px rgba(60, 64, 67, 0.15);\n",
              "        fill: #174EA6;\n",
              "      }\n",
              "\n",
              "      [theme=dark] .colab-df-generate {\n",
              "        background-color: #3B4455;\n",
              "        fill: #D2E3FC;\n",
              "      }\n",
              "\n",
              "      [theme=dark] .colab-df-generate:hover {\n",
              "        background-color: #434B5C;\n",
              "        box-shadow: 0px 1px 3px 1px rgba(0, 0, 0, 0.15);\n",
              "        filter: drop-shadow(0px 1px 2px rgba(0, 0, 0, 0.3));\n",
              "        fill: #FFFFFF;\n",
              "      }\n",
              "    </style>\n",
              "    <button class=\"colab-df-generate\" onclick=\"generateWithVariable('climate')\"\n",
              "            title=\"Generate code using this dataframe.\"\n",
              "            style=\"display:none;\">\n",
              "\n",
              "  <svg xmlns=\"http://www.w3.org/2000/svg\" height=\"24px\"viewBox=\"0 0 24 24\"\n",
              "       width=\"24px\">\n",
              "    <path d=\"M7,19H8.4L18.45,9,17,7.55,7,17.6ZM5,21V16.75L18.45,3.32a2,2,0,0,1,2.83,0l1.4,1.43a1.91,1.91,0,0,1,.58,1.4,1.91,1.91,0,0,1-.58,1.4L9.25,21ZM18.45,9,17,7.55Zm-12,3A5.31,5.31,0,0,0,4.9,8.1,5.31,5.31,0,0,0,1,6.5,5.31,5.31,0,0,0,4.9,4.9,5.31,5.31,0,0,0,6.5,1,5.31,5.31,0,0,0,8.1,4.9,5.31,5.31,0,0,0,12,6.5,5.46,5.46,0,0,0,6.5,12Z\"/>\n",
              "  </svg>\n",
              "    </button>\n",
              "    <script>\n",
              "      (() => {\n",
              "      const buttonEl =\n",
              "        document.querySelector('#id_1e480298-d7da-4708-bf48-6b7f7f1a2c89 button.colab-df-generate');\n",
              "      buttonEl.style.display =\n",
              "        google.colab.kernel.accessAllowed ? 'block' : 'none';\n",
              "\n",
              "      buttonEl.onclick = () => {\n",
              "        google.colab.notebook.generateWithVariable('climate');\n",
              "      }\n",
              "      })();\n",
              "    </script>\n",
              "  </div>\n",
              "\n",
              "    </div>\n",
              "  </div>\n"
            ],
            "application/vnd.google.colaboratory.intrinsic+json": {
              "type": "dataframe",
              "variable_name": "climate",
              "summary": "{\n  \"name\": \"climate\",\n  \"rows\": 52077,\n  \"fields\": [\n    {\n      \"column\": \"Date_Number\",\n      \"properties\": {\n        \"dtype\": \"number\",\n        \"std\": 41.160005917956795,\n        \"min\": 1880.001,\n        \"max\": 2022.579,\n        \"num_unique_values\": 52077,\n        \"samples\": [\n          1907.259,\n          1975.708,\n          2016.643\n        ],\n        \"semantic_type\": \"\",\n        \"description\": \"\"\n      }\n    },\n    {\n      \"column\": \"Year\",\n      \"properties\": {\n        \"dtype\": \"number\",\n        \"std\": 41,\n        \"min\": 1880,\n        \"max\": 2022,\n        \"num_unique_values\": 143,\n        \"samples\": [\n          1997,\n          1899,\n          1962\n        ],\n        \"semantic_type\": \"\",\n        \"description\": \"\"\n      }\n    },\n    {\n      \"column\": \"Month\",\n      \"properties\": {\n        \"dtype\": \"number\",\n        \"std\": 3,\n        \"min\": 1,\n        \"max\": 12,\n        \"num_unique_values\": 12,\n        \"samples\": [\n          11,\n          10,\n          1\n        ],\n        \"semantic_type\": \"\",\n        \"description\": \"\"\n      }\n    },\n    {\n      \"column\": \"Day\",\n      \"properties\": {\n        \"dtype\": \"number\",\n        \"std\": 8,\n        \"min\": 1,\n        \"max\": 31,\n        \"num_unique_values\": 31,\n        \"samples\": [\n          28,\n          16,\n          24\n        ],\n        \"semantic_type\": \"\",\n        \"description\": \"\"\n      }\n    },\n    {\n      \"column\": \"Day_of_Year\",\n      \"properties\": {\n        \"dtype\": \"number\",\n        \"std\": 105,\n        \"min\": 1,\n        \"max\": 365,\n        \"num_unique_values\": 365,\n        \"samples\": [\n          194,\n          34,\n          16\n        ],\n        \"semantic_type\": \"\",\n        \"description\": \"\"\n      }\n    },\n    {\n      \"column\": \"Anomaly\",\n      \"properties\": {\n        \"dtype\": \"number\",\n        \"std\": 0.6730846649150923,\n        \"min\": -2.728,\n        \"max\": 2.955,\n        \"num_unique_values\": 3871,\n        \"samples\": [\n          1.553,\n          1.939,\n          0.936\n        ],\n        \"semantic_type\": \"\",\n        \"description\": \"\"\n      }\n    }\n  ]\n}"
            }
          },
          "metadata": {},
          "execution_count": 77
        }
      ],
      "source": [
        "def p1_q1a(url, column_names = None, skipRows=None): # defining a function with name p1_qla\n",
        "  df = pd.read_csv(url,names=column_names,skiprows=skipRows,delim_whitespace=True)#Reading the csv file from given url\n",
        "  print(\"Number of Rows :\",df.shape[0])# Displaying no of rows in dataframe using shape attribute of the dataframe\n",
        "  print(\"Number of Columns:\",df.shape[1])# Displayinng no of columns in dataframe using shape attribute of the dataframe\n",
        "  for column in df.columns:\n",
        "    print(column,\"is of the data type: \",df[column].dtypes) # displaying data type of column using dtypes\n",
        "  return df\n",
        "\n",
        "url = \"https://berkeley-earth-temperature.s3.us-west-1.amazonaws.com/Global/Complete_TAVG_daily.txt\"\n",
        "column_names = ['Date_Number', 'Year', 'Month', 'Day', 'Day_of_Year', 'Anomaly']\n",
        "climate = p1_q1a(url, column_names, skipRows=23)\n",
        "climate"
      ]
    },
    {
      "cell_type": "code",
      "execution_count": null,
      "metadata": {
        "id": "XtX8eExmLp0B",
        "colab": {
          "base_uri": "https://localhost:8080/"
        },
        "outputId": "f6fec825-f5ca-4661-da3d-659766c4d75a"
      },
      "outputs": [
        {
          "output_type": "execute_result",
          "data": {
            "text/plain": [
              "False"
            ]
          },
          "metadata": {},
          "execution_count": 78
        }
      ],
      "source": [
        "climate.shape[0] == 51865"
      ]
    },
    {
      "cell_type": "code",
      "execution_count": null,
      "metadata": {
        "colab": {
          "base_uri": "https://localhost:8080/"
        },
        "id": "6YIgT2YLp5F3",
        "outputId": "04f13fe6-2553-4ab1-e22b-7c9ec5692f4d"
      },
      "outputs": [
        {
          "output_type": "execute_result",
          "data": {
            "text/plain": [
              "True"
            ]
          },
          "metadata": {},
          "execution_count": 79
        }
      ],
      "source": [
        "climate.shape[1] == 6"
      ]
    },
    {
      "cell_type": "code",
      "execution_count": null,
      "metadata": {
        "colab": {
          "base_uri": "https://localhost:8080/"
        },
        "id": "Aln16JWnp5F3",
        "outputId": "d7f02d68-907b-4a15-c95b-65804a94559f"
      },
      "outputs": [
        {
          "output_type": "execute_result",
          "data": {
            "text/plain": [
              "True"
            ]
          },
          "metadata": {},
          "execution_count": 80
        }
      ],
      "source": [
        "sum(climate.dtypes == ['float64', 'int64', 'int64', 'int64', 'int64', 'float64']) == 6"
      ]
    },
    {
      "cell_type": "code",
      "execution_count": null,
      "metadata": {
        "colab": {
          "base_uri": "https://localhost:8080/"
        },
        "id": "6X22LhW5p5F3",
        "outputId": "514233ae-650c-4c42-a271-eb67f1417bc4"
      },
      "outputs": [
        {
          "output_type": "execute_result",
          "data": {
            "text/plain": [
              "False"
            ]
          },
          "metadata": {},
          "execution_count": 81
        }
      ],
      "source": [
        "climate.iloc[0,0]==1880.001 and climate.iloc[0,5]==-0.534"
      ]
    },
    {
      "cell_type": "code",
      "execution_count": null,
      "metadata": {
        "colab": {
          "base_uri": "https://localhost:8080/"
        },
        "id": "mHHaQaBdKyqF",
        "outputId": "8eeb7142-0399-4beb-c226-ff719f59ed74"
      },
      "outputs": [
        {
          "output_type": "execute_result",
          "data": {
            "text/plain": [
              "8.688502563511724"
            ]
          },
          "metadata": {},
          "execution_count": 82
        }
      ],
      "source": [
        "climate['Temp'] = climate['Anomaly']+8.59 # Adding Temp column to dataframe\n",
        "\n",
        "climate['Temp'].mean() # finding mean of temp column"
      ]
    },
    {
      "cell_type": "code",
      "execution_count": null,
      "metadata": {
        "colab": {
          "base_uri": "https://localhost:8080/"
        },
        "id": "pXcX-jWip5F5",
        "outputId": "aa69e603-bda7-4429-c10b-eb2d429fa1b9"
      },
      "outputs": [
        {
          "output_type": "execute_result",
          "data": {
            "text/plain": [
              "True"
            ]
          },
          "metadata": {},
          "execution_count": 83
        }
      ],
      "source": [
        "climate.shape[1] == 7"
      ]
    },
    {
      "cell_type": "code",
      "execution_count": null,
      "metadata": {
        "id": "ttOOSHWeLldR",
        "colab": {
          "base_uri": "https://localhost:8080/"
        },
        "outputId": "a881ab0a-84dd-45f8-94a8-f9348658defe"
      },
      "outputs": [
        {
          "output_type": "execute_result",
          "data": {
            "text/plain": [
              "False"
            ]
          },
          "metadata": {},
          "execution_count": 84
        }
      ],
      "source": [
        "np.isclose(climate['Temp'].mean(), 8.6953882)"
      ]
    },
    {
      "cell_type": "code",
      "execution_count": null,
      "metadata": {
        "colab": {
          "base_uri": "https://localhost:8080/"
        },
        "id": "WeAtw31aLXs3",
        "outputId": "ed2cd5a6-680e-4f88-99d2-dd8d373a7148"
      },
      "outputs": [
        {
          "output_type": "stream",
          "name": "stdout",
          "text": [
            "Int64Index([1880, 1881, 1882, 1883, 1884, 1885, 1886, 1887, 1888, 1889,\n",
            "            ...\n",
            "            2013, 2014, 2015, 2016, 2017, 2018, 2019, 2020, 2021, 2022],\n",
            "           dtype='int64', name='Year', length=143)\n"
          ]
        }
      ],
      "source": [
        "mean_anomaly_year = climate.groupby('Year')['Anomaly'].mean()# Grouping by year and caluculating Anomaly mean for each year\n",
        "#years = pd.Int64Index(mean_anomaly_year.keys())\n",
        "#years = pd.Int64Index(mean_anomaly_year)  # Creating Int64Index directly from the array\n",
        "years = mean_anomaly_year.index.astype('int64')#Getting the index of year\n",
        "print(years)\n",
        "mean_anomaly_year=mean_anomaly_year.values\n",
        "\n",
        "\n"
      ]
    },
    {
      "cell_type": "code",
      "source": [
        "print('Years index:\\n', years[0:5]) # displaying first 5 Int64index\n",
        "print('Means array:\\n', mean_anomaly_year[0:5]) # displaying mean array"
      ],
      "metadata": {
        "colab": {
          "base_uri": "https://localhost:8080/"
        },
        "id": "nq7nhmMmcbjU",
        "outputId": "226729b3-774f-4fc5-be14-06af07ba86fe"
      },
      "execution_count": null,
      "outputs": [
        {
          "output_type": "stream",
          "name": "stdout",
          "text": [
            "Years index:\n",
            " Int64Index([1880, 1881, 1882, 1883, 1884], dtype='int64', name='Year')\n",
            "Means array:\n",
            " [-0.59444262 -0.33462192 -0.47347123 -0.59485479 -0.78812022]\n"
          ]
        }
      ]
    },
    {
      "cell_type": "code",
      "execution_count": null,
      "metadata": {
        "colab": {
          "base_uri": "https://localhost:8080/"
        },
        "id": "uK17nzpOp5F7",
        "outputId": "88468207-f65f-4559-d958-28ec2ec1c022"
      },
      "outputs": [
        {
          "output_type": "execute_result",
          "data": {
            "text/plain": [
              "True"
            ]
          },
          "metadata": {},
          "execution_count": 87
        }
      ],
      "source": [
        "len(years) == len(mean_anomaly_year)"
      ]
    },
    {
      "cell_type": "code",
      "execution_count": null,
      "metadata": {
        "colab": {
          "base_uri": "https://localhost:8080/"
        },
        "id": "P0kTy1pnp5F7",
        "outputId": "85346bbd-9f19-4904-e39f-7a16989c9937"
      },
      "outputs": [
        {
          "output_type": "execute_result",
          "data": {
            "text/plain": [
              "True"
            ]
          },
          "metadata": {},
          "execution_count": 88
        }
      ],
      "source": [
        "min(years) == 1880"
      ]
    },
    {
      "cell_type": "code",
      "execution_count": null,
      "metadata": {
        "colab": {
          "base_uri": "https://localhost:8080/"
        },
        "id": "vQTByAamp5F7",
        "outputId": "9dfb3021-d653-42bd-e4f9-3f2fc6bc2449"
      },
      "outputs": [
        {
          "output_type": "execute_result",
          "data": {
            "text/plain": [
              "False"
            ]
          },
          "metadata": {},
          "execution_count": 89
        }
      ],
      "source": [
        "max(years) == 2021"
      ]
    },
    {
      "cell_type": "code",
      "execution_count": null,
      "metadata": {
        "id": "Rci6EQX2Lw4K",
        "colab": {
          "base_uri": "https://localhost:8080/"
        },
        "outputId": "bca8c416-6558-4a0b-d79b-831ad307b054"
      },
      "outputs": [
        {
          "output_type": "execute_result",
          "data": {
            "text/plain": [
              "False"
            ]
          },
          "metadata": {},
          "execution_count": 90
        }
      ],
      "source": [
        "np.isclose(mean_anomaly_year[0], -0.537912)"
      ]
    },
    {
      "cell_type": "code",
      "execution_count": null,
      "metadata": {
        "colab": {
          "base_uri": "https://localhost:8080/"
        },
        "id": "6uEWK8k8p5F7",
        "outputId": "00afebe5-a14f-4ccf-d2c6-de3f03b4fee6"
      },
      "outputs": [
        {
          "output_type": "execute_result",
          "data": {
            "text/plain": [
              "False"
            ]
          },
          "metadata": {},
          "execution_count": 91
        }
      ],
      "source": [
        "np.isclose(mean_anomaly_year[1], -0.295863)"
      ]
    },
    {
      "cell_type": "code",
      "execution_count": null,
      "metadata": {
        "colab": {
          "base_uri": "https://localhost:8080/"
        },
        "id": "WzYk_Y7Lp5F7",
        "outputId": "1b12a262-569e-42db-f88b-588e69755c95"
      },
      "outputs": [
        {
          "output_type": "execute_result",
          "data": {
            "text/plain": [
              "False"
            ]
          },
          "metadata": {},
          "execution_count": 92
        }
      ],
      "source": [
        "np.isclose(mean_anomaly_year.mean(), 0.10543307)"
      ]
    },
    {
      "cell_type": "code",
      "execution_count": null,
      "metadata": {
        "colab": {
          "base_uri": "https://localhost:8080/"
        },
        "id": "vw7Bz3yLp5F7",
        "outputId": "9440b260-898d-49d0-b91b-1fab2464c243"
      },
      "outputs": [
        {
          "output_type": "execute_result",
          "data": {
            "text/plain": [
              "True"
            ]
          },
          "metadata": {},
          "execution_count": 93
        }
      ],
      "source": [
        "type(years) is pd.core.indexes.numeric.Int64Index"
      ]
    },
    {
      "cell_type": "code",
      "execution_count": null,
      "metadata": {
        "colab": {
          "base_uri": "https://localhost:8080/"
        },
        "id": "C_4YFkZgLz6S",
        "outputId": "bf260f22-8a22-4a54-e107-0902f287149d"
      },
      "outputs": [
        {
          "output_type": "stream",
          "name": "stdout",
          "text": [
            "[7.99555738 8.25537808 8.11652877 7.99514521 7.80187978]\n"
          ]
        }
      ],
      "source": [
        "mean_temp_year = climate.groupby('Year')['Temp'].mean().values # caluculating mean of temperature for each year\n",
        "print(mean_temp_year[0:5]) # displaying result"
      ]
    },
    {
      "cell_type": "code",
      "execution_count": null,
      "metadata": {
        "id": "mh2bAJoXL5f8",
        "colab": {
          "base_uri": "https://localhost:8080/"
        },
        "outputId": "bddb3e38-1c20-4be3-c05f-9548e7f6f7b3"
      },
      "outputs": [
        {
          "output_type": "execute_result",
          "data": {
            "text/plain": [
              "True"
            ]
          },
          "metadata": {},
          "execution_count": 95
        }
      ],
      "source": [
        "len(years) == len(mean_temp_year)"
      ]
    },
    {
      "cell_type": "code",
      "execution_count": null,
      "metadata": {
        "colab": {
          "base_uri": "https://localhost:8080/"
        },
        "id": "Eqhf57-jp5F9",
        "outputId": "1ee43939-b98a-4d2e-d25a-3de7698db0c5"
      },
      "outputs": [
        {
          "output_type": "execute_result",
          "data": {
            "text/plain": [
              "False"
            ]
          },
          "metadata": {},
          "execution_count": 96
        }
      ],
      "source": [
        "np.isclose(mean_temp_year[0], 8.05208743)"
      ]
    },
    {
      "cell_type": "code",
      "execution_count": null,
      "metadata": {
        "colab": {
          "base_uri": "https://localhost:8080/"
        },
        "id": "BvD7-TV3p5F9",
        "outputId": "0b3969d7-8507-428b-9577-3effa47b3486"
      },
      "outputs": [
        {
          "output_type": "execute_result",
          "data": {
            "text/plain": [
              "False"
            ]
          },
          "metadata": {},
          "execution_count": 97
        }
      ],
      "source": [
        "np.isclose(mean_temp_year[1], 8.29413699)"
      ]
    },
    {
      "cell_type": "code",
      "execution_count": null,
      "metadata": {
        "colab": {
          "base_uri": "https://localhost:8080/"
        },
        "id": "Z6mCTNbbp5F9",
        "outputId": "521d25de-5aa1-49ae-8716-119ec6ac465c"
      },
      "outputs": [
        {
          "output_type": "execute_result",
          "data": {
            "text/plain": [
              "False"
            ]
          },
          "metadata": {},
          "execution_count": 98
        }
      ],
      "source": [
        "np.isclose(mean_temp_year.mean(), 8.6954330)"
      ]
    },
    {
      "cell_type": "code",
      "execution_count": null,
      "metadata": {
        "colab": {
          "base_uri": "https://localhost:8080/",
          "height": 471
        },
        "id": "lRvXJNjtL8MZ",
        "outputId": "4b63a817-3adb-4452-d121-5fbf3abdbb89"
      },
      "outputs": [
        {
          "output_type": "display_data",
          "data": {
            "text/plain": [
              "<Figure size 640x480 with 1 Axes>"
            ],
            "image/png": "[encoded data removed]"
          },
          "metadata": {}
        }
      ],
      "source": [
        "plt.figure()\n",
        "plt.plot(years, mean_temp_year)# plotting year vs mean_temp_year\n",
        "plt.title('mean_temp_year vs years')# adding title\n",
        "plt.xlabel('years')# adding xlabel as year\n",
        "plt.ylabel('Mean_temp_year')# adding ylabel as Mean_temp_year\n",
        "plt.grid(True)\n",
        "plt.show()\n"
      ]
    },
    {
      "cell_type": "code",
      "execution_count": null,
      "metadata": {
        "colab": {
          "base_uri": "https://localhost:8080/"
        },
        "id": "xx_pptKZp5F-",
        "outputId": "1131e515-479e-42b4-96b9-b703a926943b"
      },
      "outputs": [
        {
          "output_type": "stream",
          "name": "stdout",
          "text": [
            "Int64Index([1, 2, 3, 4, 5, 6, 7, 8, 9, 10, 11, 12], dtype='int64', name='Month')\n"
          ]
        }
      ],
      "source": [
        "mean_anomaly_month = climate.groupby('Month')['Anomaly'].mean() # caluculating mean of anomaly month\n",
        "months = mean_anomaly_month.index.astype('int64')\n",
        "mean_anomaly_month=mean_anomaly_month.values\n",
        "print(months)"
      ]
    },
    {
      "cell_type": "code",
      "source": [
        "print('Months index:\\n', months[0:5])\n",
        "print('Means array:\\n', mean_anomaly_month[0:5])"
      ],
      "metadata": {
        "colab": {
          "base_uri": "https://localhost:8080/"
        },
        "id": "Z-uDF8zhc6Jp",
        "outputId": "9c3e6623-d17d-4844-f09f-993e781ae169"
      },
      "execution_count": null,
      "outputs": [
        {
          "output_type": "stream",
          "name": "stdout",
          "text": [
            "Months index:\n",
            " Int64Index([1, 2, 3, 4, 5], dtype='int64', name='Month')\n",
            "Means array:\n",
            " [0.01616693 0.03280391 0.14885924 0.31274965 0.17484615]\n"
          ]
        }
      ]
    },
    {
      "cell_type": "code",
      "execution_count": null,
      "metadata": {
        "colab": {
          "base_uri": "https://localhost:8080/"
        },
        "id": "lChwjts5p5F_",
        "outputId": "eede575a-b895-43c0-e045-2e9df19760d4"
      },
      "outputs": [
        {
          "output_type": "execute_result",
          "data": {
            "text/plain": [
              "True"
            ]
          },
          "metadata": {},
          "execution_count": 102
        }
      ],
      "source": [
        "len(months) == len(mean_anomaly_month)"
      ]
    },
    {
      "cell_type": "code",
      "execution_count": null,
      "metadata": {
        "id": "4svKf3yYMFyP",
        "colab": {
          "base_uri": "https://localhost:8080/"
        },
        "outputId": "98a25c8e-10cb-41ea-d678-e8f762c7d5c2"
      },
      "outputs": [
        {
          "output_type": "execute_result",
          "data": {
            "text/plain": [
              "False"
            ]
          },
          "metadata": {},
          "execution_count": 103
        }
      ],
      "source": [
        "np.isclose(mean_anomaly_month[0], -0.027709)"
      ]
    },
    {
      "cell_type": "code",
      "execution_count": null,
      "metadata": {
        "colab": {
          "base_uri": "https://localhost:8080/"
        },
        "id": "Ym2JmAI4p5F_",
        "outputId": "b263fd1c-323b-491b-ba57-69c1e38cb3a7"
      },
      "outputs": [
        {
          "output_type": "execute_result",
          "data": {
            "text/plain": [
              "False"
            ]
          },
          "metadata": {},
          "execution_count": 104
        }
      ],
      "source": [
        "np.isclose(mean_anomaly_month[1], 0.0090812)\n",
        "\n"
      ]
    },
    {
      "cell_type": "code",
      "execution_count": null,
      "metadata": {
        "colab": {
          "base_uri": "https://localhost:8080/"
        },
        "id": "6JE8Z4utp5F_",
        "outputId": "bd44f422-1140-4a8a-b1ee-60906d33c1c8"
      },
      "outputs": [
        {
          "output_type": "execute_result",
          "data": {
            "text/plain": [
              "False"
            ]
          },
          "metadata": {},
          "execution_count": 105
        }
      ],
      "source": [
        "np.isclose(mean_anomaly_month.mean(), 0.104825)"
      ]
    },
    {
      "cell_type": "code",
      "execution_count": null,
      "metadata": {
        "colab": {
          "base_uri": "https://localhost:8080/"
        },
        "id": "w_kaTDkwp5F_",
        "outputId": "8621541e-409e-4d73-ea2e-0cb2d14992ce"
      },
      "outputs": [
        {
          "output_type": "execute_result",
          "data": {
            "text/plain": [
              "True"
            ]
          },
          "metadata": {},
          "execution_count": 106
        }
      ],
      "source": [
        "type(months) is pd.core.indexes.numeric.Int64Index"
      ]
    },
    {
      "cell_type": "code",
      "execution_count": null,
      "metadata": {
        "colab": {
          "base_uri": "https://localhost:8080/",
          "height": 564
        },
        "id": "UEQOZoFc_KnB",
        "outputId": "06b47afe-88fc-4f88-bd5e-af0f0d3adbc0"
      },
      "outputs": [
        {
          "output_type": "display_data",
          "data": {
            "text/plain": [
              "<Figure size 1000x600 with 1 Axes>"
            ],
            "image/png": "[encoded data removed]"
          },
          "metadata": {}
        }
      ],
      "source": [
        "abbreviation_months = ['Jan', 'Feb', 'Mar', 'Apr', 'May', 'Jun', 'Jul', 'Aug', 'Sep', 'Oct', 'Nov', 'Dec'] # creating abbrivated month list\n",
        "plt.figure(figsize=(10, 6)) # giving size of figure\n",
        "plt.bar(range(1,13), mean_anomaly_month, color='blue') # plotting month vs mean_anomaly_month\n",
        "plt.title('Mean Anomaly by Month')\n",
        "plt.xlabel('Months')\n",
        "plt.ylabel('Mean Anomaly')\n",
        "plt.xticks(range(1,13), abbreviation_months)  # Setting xticks with abbreviation months\n",
        "plt.axhline(0, color='black', linewidth=2)  # Adding black horizontal line at 0 mean anomaly on the plot\n",
        "plt.grid()\n",
        "plt.show()\n"
      ]
    },
    {
      "cell_type": "code",
      "execution_count": null,
      "metadata": {
        "colab": {
          "base_uri": "https://localhost:8080/",
          "height": 472
        },
        "id": "wIEpv4uNMPqh",
        "outputId": "e36504f6-3bef-4d46-b3b9-215db4574bc2"
      },
      "outputs": [
        {
          "output_type": "display_data",
          "data": {
            "text/plain": [
              "<Figure size 640x480 with 1 Axes>"
            ],
            "image/png": "[encoded data removed]"
          },
          "metadata": {}
        }
      ],
      "source": [
        "sns.histplot(climate['Anomaly'], bins=15, kde=True, color='violet', edgecolor='black')\n",
        "plt.title('Histogram of Anomaly Data')#Adding title\n",
        "plt.xlabel('Anomaly')#Adding x label\n",
        "plt.ylabel('Frequency')#adding y label\n",
        "plt.grid()\n",
        "plt.show() #displaying plot"
      ]
    },
    {
      "cell_type": "code",
      "execution_count": null,
      "metadata": {
        "colab": {
          "base_uri": "https://localhost:8080/",
          "height": 471
        },
        "id": "Ymv35jf7MZTw",
        "outputId": "f1ccd96f-a54c-4935-8416-7d4d600680dc"
      },
      "outputs": [
        {
          "output_type": "display_data",
          "data": {
            "text/plain": [
              "<Figure size 640x480 with 1 Axes>"
            ],
            "image/png": "[encoded data removed]"
          },
          "metadata": {}
        }
      ],
      "source": [
        "plt.figure()\n",
        "plt.plot(years, mean_temp_year)# plotting year vs mean_temp_year\n",
        "land_average_temp =8.59\n",
        "plt.axhline(y=land_average_temp, color='red', linestyle='-', label='Estimated Land-Average Temperature')# Addimg horizontal line at estimated avg temp\n",
        "plt.title('mean_temp_year vs years')# adding title\n",
        "plt.xlabel('years')\n",
        "plt.ylabel('Mean_temp_year')\n",
        "plt.grid(True)\n",
        "plt.legend()\n",
        "plt.show()\n"
      ]
    },
    {
      "cell_type": "code",
      "execution_count": null,
      "metadata": {
        "colab": {
          "base_uri": "https://localhost:8080/",
          "height": 564
        },
        "id": "27Nw9ZOWPHbU",
        "outputId": "fdfc448c-5214-460d-a673-cf8f24a98e45"
      },
      "outputs": [
        {
          "output_type": "display_data",
          "data": {
            "text/plain": [
              "<Figure size 1000x600 with 1 Axes>"
            ],
            "image/png": "[encoded data removed]"
          },
          "metadata": {}
        }
      ],
      "source": [
        "abbreviation_months = ['Jan', 'Feb', 'Mar', 'Apr', 'May', 'Jun', 'Jul', 'Aug', 'Sep', 'Oct', 'Nov', 'Dec'] # creating abbrivated month list\n",
        "plt.figure(figsize=(10, 6)) # giving size of figure\n",
        "colors = ['black' if anomaly >= 0 else 'red' for anomaly in mean_anomaly_month] # condition to give black for +ve and red for -ve\n",
        "plt.bar(range(1,13), mean_anomaly_month, color=colors) # plotting month vs mean_anomaly_month\n",
        "plt.title('Mean Anomaly by Month')\n",
        "plt.xlabel('Months')\n",
        "plt.ylabel('Mean Anomaly')\n",
        "plt.xticks(range(1,13), abbreviation_months)  # Setting xticks with abbreviation months\n",
        "plt.axhline(0, color='black', linewidth=2)  # Adding black horizontal line at 0 mean anomaly on the plot\n",
        "plt.grid()\n",
        "plt.show()"
      ]
    }
  ],
  "metadata": {
    "colab": {
      "provenance": [],
      "toc_visible": true
    },
    "kernelspec": {
      "display_name": "Python 3 (ipykernel)",
      "language": "python",
      "name": "python3"
    },
    "language_info": {
      "codemirror_mode": {
        "name": "ipython",
        "version": 3
      },
      "file_extension": ".py",
      "mimetype": "text/x-python",
      "name": "python",
      "nbconvert_exporter": "python",
      "pygments_lexer": "ipython3",
      "version": "3.11.5"
    }
  },
  "nbformat": 4,
  "nbformat_minor": 0
}